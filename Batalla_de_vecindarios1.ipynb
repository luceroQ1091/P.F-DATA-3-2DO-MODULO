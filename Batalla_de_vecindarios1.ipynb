{
  "nbformat": 4,
  "nbformat_minor": 0,
  "metadata": {
    "colab": {
      "name": "Batalla de vecindarios1.ipynb",
      "provenance": [],
      "authorship_tag": "ABX9TyPVp+l8Ed/LX2fIm2jvqsnT",
      "include_colab_link": true
    },
    "kernelspec": {
      "name": "python3",
      "display_name": "Python 3"
    },
    "language_info": {
      "name": "python"
    }
  },
  "cells": [
    {
      "cell_type": "markdown",
      "metadata": {
        "id": "view-in-github",
        "colab_type": "text"
      },
      "source": [
        "<a href=\"https://colab.research.google.com/github/luceroQ1091/P.F-DATA-3-2DO-MODULO/blob/main/Batalla_de_vecindarios1.ipynb\" target=\"_parent\"><img src=\"https://colab.research.google.com/assets/colab-badge.svg\" alt=\"Open In Colab\"/></a>"
      ]
    },
    {
      "cell_type": "markdown",
      "source": [
        "**Batalla de los Vecindarios by Lucero Quiroz- SEMANA 1**"
      ],
      "metadata": {
        "id": "0RsG5fdZPyq-"
      }
    },
    {
      "cell_type": "markdown",
      "source": [
        "**Descripción del problema**\n",
        "\n",
        "Encontrar el lugar más adecuado y transitable para abrir una nueva cafeteria. \n",
        "\n"
      ],
      "metadata": {
        "id": "qSYorPltzxEb"
      }
    },
    {
      "cell_type": "markdown",
      "source": [
        "**Discusión de los antecedentes**\n",
        "El lugar deberá cumplir con ciertos requisitos como la competencia actual, el nivel socieconómico de las personas y la seguridad de la ubicación en la ciudad de Toronto."
      ],
      "metadata": {
        "id": "HYS24Goe0CyQ"
      }
    },
    {
      "cell_type": "markdown",
      "source": [
        "**Introducción problema comercial y quién estaría interesado en este proyecto**\n",
        "Seleccionar y encontrar lugares adecuados para la apertura de nuevos locales-franquicias. Los interesados son los inversionistas."
      ],
      "metadata": {
        "id": "NL1_TVYU0Ym5"
      }
    },
    {
      "cell_type": "markdown",
      "source": [
        "**DESCRIPCIÓN DATOS**\n",
        "Los datos que se necesitará para desarrollar esta investigación son del CENSO ya que nos brindará información demógrafica, social y económica de las personas en la ciudad de Toronto. \n",
        "\n",
        "Link: https://en.wikipedia.org/wiki/List_of_postal_codes_of_Canada:_M\n",
        "\n",
        "Se usa foursquare para obtener la información de las cafeterias de Toronto\n",
        "\n",
        "Link: https://foursquare.com/explore?mode=url&ne=44.418088%2C-78.362732&q=Restaurant&sw=42.742978%2C-80.554504\n"
      ],
      "metadata": {
        "id": "BNobYzjnRHkv"
      }
    }
  ]
}