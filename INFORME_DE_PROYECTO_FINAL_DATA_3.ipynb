{
  "nbformat": 4,
  "nbformat_minor": 0,
  "metadata": {
    "colab": {
      "name": "INFORME DE PROYECTO FINAL DATA 3.ipynb",
      "provenance": [],
      "collapsed_sections": [],
      "include_colab_link": true
    },
    "kernelspec": {
      "name": "python3",
      "display_name": "Python 3"
    },
    "language_info": {
      "name": "python"
    }
  },
  "cells": [
    {
      "cell_type": "markdown",
      "metadata": {
        "id": "view-in-github",
        "colab_type": "text"
      },
      "source": [
        "<a href=\"https://colab.research.google.com/github/luceroQ1091/P.F-DATA-3-2DO-MODULO/blob/main/INFORME_DE_PROYECTO_FINAL_DATA_3.ipynb\" target=\"_parent\"><img src=\"https://colab.research.google.com/assets/colab-badge.svg\" alt=\"Open In Colab\"/></a>"
      ]
    },
    {
      "cell_type": "markdown",
      "source": [
        "**Predecir un lugar apropiado para apertura de nuevos locales de cafetería en Toronto**"
      ],
      "metadata": {
        "id": "NkmAU9CHNwzG"
      }
    },
    {
      "cell_type": "markdown",
      "source": [
        "**Introducción** Para elegir la ubicación de una cafetería es importante realizar un estudio de mercado, la fluidez de personas, cercanía a una biblioteca, analizar la competencia entre otros aspectos. Este proyecto es de interés para los inversionistas que desean aperturar locales en la ciudad de Toronto"
      ],
      "metadata": {
        "id": "ELXXwgCONx4u"
      }
    },
    {
      "cell_type": "markdown",
      "source": [
        "**Problema**Encontrar el lugar más adecuado y transitable para abrir una nueva cafetería"
      ],
      "metadata": {
        "id": "sgGdpbTqNyAU"
      }
    },
    {
      "cell_type": "markdown",
      "source": [
        "**Datos** Los datos que se necesitará para desarrollar esta investigación son del CENSO ya que nos brindará información demográfica, social y económica de las personas en la ciudad de Toronto. La data de la población es del año 2008 Enlace: https://en.wikipedia.org/wiki/List_of_postal_codes_of_Canada:_M Para lo cual se necesitará foursquare para obtener la información de las cafeterias de Toronto Link: https://foursquare.com/explore?mode=url&ne=44.418088%2C-78.362732&q=Restaurant&sw=42.742978%2C-80.554504"
      ],
      "metadata": {
        "id": "YCDvRSwcNyD0"
      }
    },
    {
      "cell_type": "markdown",
      "source": [
        "**LIBRERIA**"
      ],
      "metadata": {
        "id": "hOD6F-YFOEG6"
      }
    },
    {
      "cell_type": "markdown",
      "source": [
        "**Importar las libreria**"
      ],
      "metadata": {
        "id": "Q5_8x56GOQ41"
      }
    },
    {
      "cell_type": "markdown",
      "source": [
        "Se importan las librerias pandas, numppy, request y geocoder para desarrollar la investigación y trasladar los datos para generar mapas a traves de geocoder"
      ],
      "metadata": {
        "id": "BEozWUL7adaQ"
      }
    },
    {
      "cell_type": "markdown",
      "source": [
        "**Se utiliza información de wikipedia de postales de Canada**"
      ],
      "metadata": {
        "id": "lXCZUJnSOcpf"
      }
    },
    {
      "cell_type": "markdown",
      "source": [
        "Se usa la web de wikipedia de las postales de Toronto"
      ],
      "metadata": {
        "id": "pdLSY02ca0dK"
      }
    },
    {
      "cell_type": "markdown",
      "source": [
        "**Limpieza y modificación de datos**"
      ],
      "metadata": {
        "id": "KC2QYjzlbx3K"
      }
    },
    {
      "cell_type": "markdown",
      "source": [
        "Se modifica el nombre de los vecindarios de Toronto, para una mejor comprensión"
      ],
      "metadata": {
        "id": "GJLfiLcjb9jY"
      }
    },
    {
      "cell_type": "markdown",
      "source": [
        "**Información del encabezado de los promeros 11 Vecindarios y codigos postales en Toronto**"
      ],
      "metadata": {
        "id": "ojlD--XzQR-9"
      }
    },
    {
      "cell_type": "markdown",
      "source": [
        "Se revisa el encabezado de las 11 primeras filas para verificar las correcciones"
      ],
      "metadata": {
        "id": "u8ShKCIecH_R"
      }
    },
    {
      "cell_type": "markdown",
      "source": [
        "**Identificar la latitud y longitud**\n",
        "A traves del codigo postal de cada ciudad se puede verificar la latitud y longitud de cada vecindario"
      ],
      "metadata": {
        "id": "Vk9dl8T9SHqX"
      }
    },
    {
      "cell_type": "markdown",
      "source": [
        "**Nombre de la ciudad y vecindario**"
      ],
      "metadata": {
        "id": "nLHF1QCccoa5"
      }
    },
    {
      "cell_type": "markdown",
      "source": [
        "Se une la data de codigo postal, ciudad, vecindario, latitud y longitud para una mejor ubicación de señaliticas en el mapa de Toronto"
      ],
      "metadata": {
        "id": "LdV2bRskcmrh"
      }
    },
    {
      "cell_type": "markdown",
      "source": [
        "**Número de vecindarios por ciudad**\n",
        "\n"
      ],
      "metadata": {
        "id": "Y7aDYg0xdgbg"
      }
    },
    {
      "cell_type": "markdown",
      "source": [
        "Se contabiliza el número de vecindarios por cada ciudad"
      ],
      "metadata": {
        "id": "p8ihqwx_dmDo"
      }
    },
    {
      "cell_type": "markdown",
      "source": [
        "**Listado de ciudades por vecindario**"
      ],
      "metadata": {
        "id": "_fzhjd7deflh"
      }
    },
    {
      "cell_type": "markdown",
      "source": [
        "Se enlista los vecindarios unicos"
      ],
      "metadata": {
        "id": "E0TxVxvKef6L"
      }
    },
    {
      "cell_type": "markdown",
      "source": [
        "**Se coloca las señaliticas por colores y tamaño en cada vecindario en el mapa**"
      ],
      "metadata": {
        "id": "s04r09rpeyVJ"
      }
    },
    {
      "cell_type": "markdown",
      "source": [
        "Con la ayuda de los codigos se colocan diferentes colores y tamaño para cada vecindario"
      ],
      "metadata": {
        "id": "JjluUyqYeygA"
      }
    },
    {
      "cell_type": "markdown",
      "source": [
        "**Mapa de Toronto**"
      ],
      "metadata": {
        "id": "PX6GlIt7QGEp"
      }
    },
    {
      "cell_type": "markdown",
      "source": [
        "Se señala las ubicaciones de los vecindarios a traves del mapa"
      ],
      "metadata": {
        "id": "oHogIq42eCNp"
      }
    },
    {
      "cell_type": "markdown",
      "source": [
        "**Resultado y conclusiones**\n",
        "En el analisis realizado a tarves del mapa se puede visualizar que hay varios restaurantes y cafeterias alrededor del centro de Toronto.\n",
        "Hay lugares de poco transito de personas. La mayor cantidad de personas se pudo detectar en centro de la ciudad de Toronto pues hay empresas que suelen realizar sus reuniones en la mañana, tambien en el centro financiero y en el Quens Park.\n",
        "Se identifico que otro distrito potencial North York por la popularidad de turistas y la cercania al centro de la ciudad de Toronto.\n",
        "Finalmente el proposito de esta investigación es proporcionar información de los lugares candidatos para aperturar nuevos locales evaluando costos de alquiler-compra y el nivel socioeconomico."
      ],
      "metadata": {
        "id": "F4Ab-JhlPzgm"
      }
    },
    {
      "cell_type": "markdown",
      "source": [
        "**Discusiones**\n",
        "A traves del Foursquare se pudo identificar la ubicación de los restaurantes y cafeterias asi como el niel socioeconomico de las personas.\n",
        "Los inversionistas tomaran la desición final sobre la ubicación más optima se recomienda realizar un estudio de mercado para analizar otro factores adicionales como lugares atractivos, cercania a bibliotecas, nivel de ruido, precios, entre otros."
      ],
      "metadata": {
        "id": "9MqgAIY_P9k2"
      }
    }
  ]
}