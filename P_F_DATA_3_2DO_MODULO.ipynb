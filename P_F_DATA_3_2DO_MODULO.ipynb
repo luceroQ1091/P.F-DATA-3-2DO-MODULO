{
  "nbformat": 4,
  "nbformat_minor": 0,
  "metadata": {
    "colab": {
      "name": "P.F DATA 3-2DO MODULO",
      "provenance": [],
      "authorship_tag": "ABX9TyPjoR0XzOhksjaNQqR2XC89",
      "include_colab_link": true
    },
    "kernelspec": {
      "name": "python3",
      "display_name": "Python 3"
    },
    "language_info": {
      "name": "python"
    }
  },
  "cells": [
    {
      "cell_type": "markdown",
      "metadata": {
        "id": "view-in-github",
        "colab_type": "text"
      },
      "source": [
        "<a href=\"https://colab.research.google.com/github/luceroQ1091/P.F-DATA-3-2DO-MODULO/blob/main/P_F_DATA_3_2DO_MODULO.ipynb\" target=\"_parent\"><img src=\"https://colab.research.google.com/assets/colab-badge.svg\" alt=\"Open In Colab\"/></a>"
      ]
    },
    {
      "cell_type": "markdown",
      "source": [
        "PROYECTO FINAL BY LUCERO QUIROZ QUINTE"
      ],
      "metadata": {
        "id": "cl5p_MkBixz-"
      }
    },
    {
      "cell_type": "markdown",
      "source": [
        "Este trabajo es exclusivamente para el proyecto final"
      ],
      "metadata": {
        "id": "mJwk-nyVi1LV"
      }
    },
    {
      "cell_type": "code",
      "execution_count": null,
      "metadata": {
        "id": "8ar7c1D6ipnZ"
      },
      "outputs": [],
      "source": [
        "import pandas as pd\n",
        "import numpy as np\n"
      ]
    },
    {
      "cell_type": "code",
      "source": [
        "a =\"¡Hola, Proyecto Final del Curso!\"\n",
        "print(a)"
      ],
      "metadata": {
        "colab": {
          "base_uri": "https://localhost:8080/"
        },
        "id": "fEK1jOeHjHFW",
        "outputId": "2bf72ce4-833e-41b3-bcd7-13d1b03027c4"
      },
      "execution_count": null,
      "outputs": [
        {
          "output_type": "stream",
          "name": "stdout",
          "text": [
            "¡Hola, Proyecto Final del Curso!\n"
          ]
        }
      ]
    }
  ]
}